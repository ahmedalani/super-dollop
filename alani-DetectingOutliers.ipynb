{
 "cells": [
  {
   "cell_type": "code",
   "execution_count": 5,
   "metadata": {},
   "outputs": [
    {
     "name": "stdout",
     "output_type": "stream",
     "text": [
      "My secret key is 68 characters in length.\n"
     ]
    }
   ],
   "source": [
    "import json\n",
    "\n",
    "# Demonstration of how to load a file that contains secrets without accidentally leaking those secrets\n",
    "with open('credentials.json') as f:\n",
    "    data = json.load(f)\n",
    "\n",
    "    # If you want your data to be secure, don't print this variable out!\n",
    "    # Jupyter will retain a cached version of any printed data and it can be\n",
    "    # accidentally committed to version control.\n",
    "    secret_key = data['mongodb']\n",
    "\n",
    "# We can safely print the length of the secret key. That won't leak any sensitive information.\n",
    "print(f\"My secret key is {len(secret_key)} characters in length.\")"
   ]
  },
  {
   "cell_type": "code",
   "execution_count": 4,
   "metadata": {},
   "outputs": [
    {
     "name": "stdout",
     "output_type": "stream",
     "text": [
      "Collecting pymongo\n",
      "  Downloading pymongo-4.7.1-cp310-cp310-macosx_10_9_x86_64.whl.metadata (22 kB)\n",
      "Collecting dnspython<3.0.0,>=1.16.0 (from pymongo)\n",
      "  Downloading dnspython-2.6.1-py3-none-any.whl.metadata (5.8 kB)\n",
      "Downloading pymongo-4.7.1-cp310-cp310-macosx_10_9_x86_64.whl (486 kB)\n",
      "\u001b[2K   \u001b[90m━━━━━━━━━━━━━━━━━━━━━━━━━━━━━━━━━━━━━━━\u001b[0m \u001b[32m486.1/486.1 kB\u001b[0m \u001b[31m697.0 kB/s\u001b[0m eta \u001b[36m0:00:00\u001b[0m00:01\u001b[0m00:01\u001b[0m\n",
      "\u001b[?25hDownloading dnspython-2.6.1-py3-none-any.whl (307 kB)\n",
      "\u001b[2K   \u001b[90m━━━━━━━━━━━━━━━━━━━━━━━━━━━━━━━━━━━━━━━━\u001b[0m \u001b[32m307.7/307.7 kB\u001b[0m \u001b[31m2.3 MB/s\u001b[0m eta \u001b[36m0:00:00\u001b[0m00:01\u001b[0m00:01\u001b[0m\n",
      "\u001b[?25h\u001b[33mDEPRECATION: pytorch-lightning 1.8.3.post0 has a non-standard dependency specifier torch>=1.9.*. pip 24.1 will enforce this behaviour change. A possible replacement is to upgrade to a newer version of pytorch-lightning or contact the author to suggest that they release a version with a conforming dependency specifiers. Discussion can be found at https://github.com/pypa/pip/issues/12063\u001b[0m\u001b[33m\n",
      "\u001b[0mInstalling collected packages: dnspython, pymongo\n",
      "Successfully installed dnspython-2.6.1 pymongo-4.7.1\n"
     ]
    }
   ],
   "source": [
    "!pip install pymongo"
   ]
  },
  {
   "cell_type": "code",
   "execution_count": 7,
   "metadata": {},
   "outputs": [
    {
     "name": "stdout",
     "output_type": "stream",
     "text": [
      "Using MongoDB version 7.0.8.\n",
      "This MongoDB server has the databases ['data320', 'sample_mflix', 'admin', 'local']\n",
      "This database has the collections ['imdb', 'movies']\n"
     ]
    }
   ],
   "source": [
    "import pymongo\n",
    "import certifi\n",
    "\n",
    "# Connect to the database using known good certificates\n",
    "client = pymongo.MongoClient(secret_key, tlsCAFile=certifi.where())\n",
    "print(f\"Using MongoDB version {client.server_info()['version']}.\")\n",
    "\n",
    "# Check what databases exist on this server\n",
    "all_databases = client.list_database_names()\n",
    "print(f\"This MongoDB server has the databases {all_databases}\")\n",
    "\n",
    "# If we know the correct database to talk to, we connect like this:\n",
    "data320 = client['data320']\n",
    "\n",
    "# Here is the list of collections within my database\n",
    "all_collections = data320.list_collection_names()\n",
    "print(f\"This database has the collections {all_collections}\")"
   ]
  },
  {
   "cell_type": "code",
   "execution_count": 10,
   "metadata": {},
   "outputs": [
    {
     "data": {
      "text/html": [
       "<div>\n",
       "<style scoped>\n",
       "    .dataframe tbody tr th:only-of-type {\n",
       "        vertical-align: middle;\n",
       "    }\n",
       "\n",
       "    .dataframe tbody tr th {\n",
       "        vertical-align: top;\n",
       "    }\n",
       "\n",
       "    .dataframe thead th {\n",
       "        text-align: right;\n",
       "    }\n",
       "</style>\n",
       "<table border=\"1\" class=\"dataframe\">\n",
       "  <thead>\n",
       "    <tr style=\"text-align: right;\">\n",
       "      <th></th>\n",
       "      <th>_id</th>\n",
       "      <th>movie_id</th>\n",
       "      <th>title</th>\n",
       "      <th>release_date</th>\n",
       "      <th>description</th>\n",
       "      <th>score</th>\n",
       "      <th>thumbnail</th>\n",
       "    </tr>\n",
       "  </thead>\n",
       "  <tbody>\n",
       "    <tr>\n",
       "      <th>0</th>\n",
       "      <td>66286fe7c5e83e4c458bf92f</td>\n",
       "      <td>11983</td>\n",
       "      <td>Spirited Away</td>\n",
       "      <td>September 20, 2002</td>\n",
       "      <td>A young girl, Chihiro, becomes trapped in a st...</td>\n",
       "      <td>96</td>\n",
       "      <td>https://static.metacritic.com/images/products/...</td>\n",
       "    </tr>\n",
       "    <tr>\n",
       "      <th>1</th>\n",
       "      <td>66286fe7c5e83e4c458bf930</td>\n",
       "      <td>11984</td>\n",
       "      <td>Atanarjuat: The Fast Runner</td>\n",
       "      <td>June 7, 2002</td>\n",
       "      <td>Evil in the form of an unknown shaman divides ...</td>\n",
       "      <td>91</td>\n",
       "      <td>https://static.metacritic.com/images/products/...</td>\n",
       "    </tr>\n",
       "    <tr>\n",
       "      <th>2</th>\n",
       "      <td>66286fe7c5e83e4c458bf931</td>\n",
       "      <td>11985</td>\n",
       "      <td>Bloody Sunday</td>\n",
       "      <td>October 4, 2002</td>\n",
       "      <td>This controversial and critically acclaimed fi...</td>\n",
       "      <td>90</td>\n",
       "      <td>https://static.metacritic.com/images/products/...</td>\n",
       "    </tr>\n",
       "    <tr>\n",
       "      <th>3</th>\n",
       "      <td>66286fe7c5e83e4c458bf932</td>\n",
       "      <td>11986</td>\n",
       "      <td>Y Tu Mamá También</td>\n",
       "      <td>March 15, 2002</td>\n",
       "      <td>Abandoned by their girlfriends for the summer,...</td>\n",
       "      <td>88</td>\n",
       "      <td>https://static.metacritic.com/images/products/...</td>\n",
       "    </tr>\n",
       "    <tr>\n",
       "      <th>4</th>\n",
       "      <td>66286fe7c5e83e4c458bf933</td>\n",
       "      <td>11987</td>\n",
       "      <td>Time Out</td>\n",
       "      <td>March 29, 2002</td>\n",
       "      <td>After losing his job, Vincent (Recoing) can't ...</td>\n",
       "      <td>88</td>\n",
       "      <td>https://static.metacritic.com/images/products/...</td>\n",
       "    </tr>\n",
       "  </tbody>\n",
       "</table>\n",
       "</div>"
      ],
      "text/plain": [
       "                        _id  movie_id                        title  \\\n",
       "0  66286fe7c5e83e4c458bf92f     11983                Spirited Away   \n",
       "1  66286fe7c5e83e4c458bf930     11984  Atanarjuat: The Fast Runner   \n",
       "2  66286fe7c5e83e4c458bf931     11985                Bloody Sunday   \n",
       "3  66286fe7c5e83e4c458bf932     11986            Y Tu Mamá También   \n",
       "4  66286fe7c5e83e4c458bf933     11987                     Time Out   \n",
       "\n",
       "         release_date                                        description  \\\n",
       "0  September 20, 2002  A young girl, Chihiro, becomes trapped in a st...   \n",
       "1        June 7, 2002  Evil in the form of an unknown shaman divides ...   \n",
       "2     October 4, 2002  This controversial and critically acclaimed fi...   \n",
       "3      March 15, 2002  Abandoned by their girlfriends for the summer,...   \n",
       "4      March 29, 2002  After losing his job, Vincent (Recoing) can't ...   \n",
       "\n",
       "   score                                          thumbnail  \n",
       "0     96  https://static.metacritic.com/images/products/...  \n",
       "1     91  https://static.metacritic.com/images/products/...  \n",
       "2     90  https://static.metacritic.com/images/products/...  \n",
       "3     88  https://static.metacritic.com/images/products/...  \n",
       "4     88  https://static.metacritic.com/images/products/...  "
      ]
     },
     "execution_count": 10,
     "metadata": {},
     "output_type": "execute_result"
    }
   ],
   "source": [
    "import pandas as pd\n",
    "import re\n",
    "\n",
    "# Retrieve all records from a collection - this can be a large amount of data!\n",
    "cursor = data320[\"movies\"].find({\"release_date\": re.compile(\"2002\")})\n",
    "\n",
    "# Convert this information into a Pandas dataframe\n",
    "metacritic = pd.DataFrame(cursor)\n",
    "\n",
    "# Make sure we've read the information correctly\n",
    "metacritic.head()\n"
   ]
  },
  {
   "cell_type": "code",
   "execution_count": null,
   "metadata": {},
   "outputs": [],
   "source": []
  }
 ],
 "metadata": {
  "kernelspec": {
   "display_name": "Python 3",
   "language": "python",
   "name": "python3"
  },
  "language_info": {
   "codemirror_mode": {
    "name": "ipython",
    "version": 3
   },
   "file_extension": ".py",
   "mimetype": "text/x-python",
   "name": "python",
   "nbconvert_exporter": "python",
   "pygments_lexer": "ipython3",
   "version": "3.10.7"
  }
 },
 "nbformat": 4,
 "nbformat_minor": 2
}
